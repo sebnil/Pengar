{
 "cells": [
  {
   "cell_type": "code",
   "execution_count": 6,
   "metadata": {
    "collapsed": false
   },
   "outputs": [],
   "source": [
    "import re\n",
    "import requests\n",
    "from bs4 import BeautifulSoup\n",
    "\n",
    "def morningstar(url):\n",
    "\n",
    "#    url = \"http://www.morningstar.se/Funds/Quicktake/Overview.aspx?perfid=0P0000J24W\"\n",
    "\n",
    "    r  = requests.get(url)\n",
    "\n",
    "    data = r.text\n",
    "\n",
    "    soup = BeautifulSoup(data)\n",
    "    a = soup.find('table', {\"class\": \"alternatedtoplist\"}).findAll('td')[1].contents[0]\n",
    "    \n",
    "    # todo: should care about currency\n",
    "\n",
    "    a2 = map(int, re.findall(r'\\d+', a))\n",
    "    a3 = float('{}.{}'.format(a2[0], a2[1]))\n",
    "    return a3\n",
    "\n",
    "#morningstar(\"http://www.morningstar.se/Funds/Quicktake/Overview.aspx?perfid=0P0000J24W\")"
   ]
  },
  {
   "cell_type": "code",
   "execution_count": 7,
   "metadata": {
    "collapsed": false
   },
   "outputs": [],
   "source": [
    "def yahoo_share(share_name):\n",
    "    from yahoo_finance import Share, Currency\n",
    "    yahoo = Share(share_name)\n",
    "    price = float(yahoo.get_price())\n",
    "    \n",
    "    stock_currency = yahoo.data_set['Currency']\n",
    "    \n",
    "    if stock_currency != 'SEK':\n",
    "        currency_convert = Currency('{}SEK'.format(stock_currency))\n",
    "        rate = currency_convert.get_rate()\n",
    "        price_in_SEK = float(price) * float(rate)\n",
    "    else:\n",
    "        price_in_SEK = float(price)\n",
    "    return price_in_SEK\n",
    "\n",
    "#print yahoo_share('AAPL')\n",
    "#print yahoo_share('VITR.ST')"
   ]
  },
  {
   "cell_type": "code",
   "execution_count": 8,
   "metadata": {
    "collapsed": false
   },
   "outputs": [],
   "source": [
    "assets = {\n",
    "    'AAPL': {\n",
    "        'own': 1,\n",
    "        'current_value': yahoo_share('AAPL')\n",
    "    },\n",
    "    'Coca-Cola': {\n",
    "        'own': 3,\n",
    "        'current_value': yahoo_share('KO')\n",
    "    },\n",
    "    'Duke Energy': {\n",
    "        'own': 2,\n",
    "        'current_value': yahoo_share('DUK')\n",
    "    },\n",
    "    'NOF': {\n",
    "        'own': 170,\n",
    "        'current_value': yahoo_share('NOF.OL')\n",
    "    },\n",
    "    'Target': {\n",
    "        'own': 2,\n",
    "        'current_value': yahoo_share('TGT')\n",
    "    },\n",
    "    'VITR': {\n",
    "        'own': 10,\n",
    "        'current_value': yahoo_share('VITR.ST')\n",
    "    },\n",
    "    \n",
    "    'Carnegie Indien': {\n",
    "        'own': 4.2735,\n",
    "        'current_value': morningstar(\"http://www.morningstar.se/Funds/Quicktake/Overview.aspx?perfid=0P00000ZOO\")\n",
    "    },\n",
    "    'JPM Global Health': {\n",
    "        'own': 2.11,\n",
    "        'current_value': morningstar(\"http://www.morningstar.se/Funds/Quicktake/Overview.aspx?perfid=0P0000LZRB\")\n",
    "    },\n",
    "    'Nordnet Superfonden Sverige': {\n",
    "        'own': 6.4099,\n",
    "        'current_value': morningstar(\"http://www.morningstar.se/Funds/Quicktake/Overview.aspx?perfid=0P0000J24W\")\n",
    "    },\n",
    "    'SEB Japanfond': {\n",
    "        'own': 491.8263,\n",
    "        'current_value': morningstar(\"http://www.morningstar.se/Funds/Quicktake/Overview.aspx?perfid=0P00000LU7\")\n",
    "    },    \n",
    "}"
   ]
  },
  {
   "cell_type": "code",
   "execution_count": 9,
   "metadata": {
    "collapsed": false
   },
   "outputs": [
    {
     "data": {
      "text/html": [
       "<table border=\"1\" cellpadding=\"3\" cellspacing=\"0\"  style=\"border:1px solid black;border-collapse:collapse;\"><tr><td  style=\"background-color:LightGray;\"><b>Asset</b></td><td  style=\"background-color:LightGray;\"><b>Own</b></td><td  style=\"background-color:LightGray;\"><b>Price</b></td><td  style=\"background-color:LightGray;\"><b>Worth</b></td></tr><tr><td  style=\"background-color:Ivory;\">Duke&nbspEnergy</td><td  style=\"background-color:Ivory;\">2</td><td  style=\"background-color:Ivory;\">563.0259</td><td  style=\"background-color:Ivory;\">1126.0518</td></tr><tr><td  style=\"background-color:AliceBlue;\">Target</td><td  style=\"background-color:AliceBlue;\">2</td><td  style=\"background-color:AliceBlue;\">641.6222</td><td  style=\"background-color:AliceBlue;\">1283.2443</td></tr><tr><td  style=\"background-color:Ivory;\">VITR</td><td  style=\"background-color:Ivory;\">10</td><td  style=\"background-color:Ivory;\">163.0000</td><td  style=\"background-color:Ivory;\">1630.0000</td></tr><tr><td  style=\"background-color:AliceBlue;\">SEB&nbspJapanfond</td><td  style=\"background-color:AliceBlue;\">491.8263</td><td  style=\"background-color:AliceBlue;\">6.5500</td><td  style=\"background-color:AliceBlue;\">3221.4623</td></tr><tr><td  style=\"background-color:Ivory;\">NOF</td><td  style=\"background-color:Ivory;\">170</td><td  style=\"background-color:Ivory;\">7.6285</td><td  style=\"background-color:Ivory;\">1296.8484</td></tr><tr><td  style=\"background-color:AliceBlue;\">AAPL</td><td  style=\"background-color:AliceBlue;\">1</td><td  style=\"background-color:AliceBlue;\">940.9305</td><td  style=\"background-color:AliceBlue;\">940.9305</td></tr><tr><td  style=\"background-color:Ivory;\">Nordnet&nbspSuperfonden&nbspSverige</td><td  style=\"background-color:Ivory;\">6.4099</td><td  style=\"background-color:Ivory;\">280.5200</td><td  style=\"background-color:Ivory;\">1798.1051</td></tr><tr><td  style=\"background-color:AliceBlue;\">Carnegie&nbspIndien</td><td  style=\"background-color:AliceBlue;\">4.2735</td><td  style=\"background-color:AliceBlue;\">368.6500</td><td  style=\"background-color:AliceBlue;\">1575.4258</td></tr><tr><td  style=\"background-color:Ivory;\">Coca-Cola</td><td  style=\"background-color:Ivory;\">3</td><td  style=\"background-color:Ivory;\">314.1378</td><td  style=\"background-color:Ivory;\">942.4135</td></tr><tr><td  style=\"background-color:AliceBlue;\">JPM&nbspGlobal&nbspHealth</td><td  style=\"background-color:AliceBlue;\">2.1100</td><td  style=\"background-color:AliceBlue;\">303.1000</td><td  style=\"background-color:AliceBlue;\">639.5410</td></tr><tr><td  style=\"background-color:Ivory;\"></td><td  style=\"background-color:Ivory;\"></td><td  style=\"background-color:Ivory;\"></td><td  style=\"background-color:Ivory;\"></td></tr><tr><td  style=\"background-color:AliceBlue;\"></td><td  style=\"background-color:AliceBlue;\"></td><td  style=\"background-color:AliceBlue;\"></td><td  style=\"background-color:AliceBlue;\">14454.0227</td></tr></table>"
      ],
      "text/plain": [
       "<ipy_table.IpyTable at 0x108ff7c90>"
      ]
     },
     "execution_count": 9,
     "metadata": {},
     "output_type": "execute_result"
    }
   ],
   "source": [
    "from ipy_table import *\n",
    "def calculate_total_assets():\n",
    "    total_worth = 0\n",
    "    table = [\n",
    "        ['Asset', 'Own', 'Price', 'Worth']\n",
    "    ]\n",
    "    for asset_name in assets:\n",
    "        worth = assets[asset_name]['current_value']*assets[asset_name]['own']\n",
    "        total_worth += worth\n",
    "        table.append([asset_name, assets[asset_name]['own'], assets[asset_name]['current_value'], worth])\n",
    "        #print '{}\\t{}\\t{}'.format(asset_name, assets[asset_name]['current_value'], worth)\n",
    "    table.append(['', '', '', ''])\n",
    "    table.append(['', '', '', total_worth])\n",
    "    #print(total_worth)\n",
    "    return table\n",
    "\n",
    "make_table(calculate_total_assets())\n",
    "apply_theme('basic')"
   ]
  },
  {
   "cell_type": "code",
   "execution_count": null,
   "metadata": {
    "collapsed": true
   },
   "outputs": [],
   "source": []
  }
 ],
 "metadata": {
  "kernelspec": {
   "display_name": "Python 2",
   "language": "python",
   "name": "python2"
  },
  "language_info": {
   "codemirror_mode": {
    "name": "ipython",
    "version": 2
   },
   "file_extension": ".py",
   "mimetype": "text/x-python",
   "name": "python",
   "nbconvert_exporter": "python",
   "pygments_lexer": "ipython2",
   "version": "2.7.10"
  }
 },
 "nbformat": 4,
 "nbformat_minor": 0
}
